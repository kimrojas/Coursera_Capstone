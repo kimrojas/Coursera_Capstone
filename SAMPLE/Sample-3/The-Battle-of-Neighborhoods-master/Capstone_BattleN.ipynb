{
 "cells": [
  {
   "cell_type": "markdown",
   "metadata": {},
   "source": [
    "## The Battle of Neighborhoods: Find the best place to stay in New York City\n",
    "### Applied Data Science Capstone Project\n",
    "\n",
    "Author: Siarhei Vasiaichau <br />\n",
    "Date:   February 17, 2020\n",
    "\n",
    "\n",
    "**1.\tIntroduction** <br /><br />\n",
    "&nbsp;&nbsp;**1.1.\t Background** <br />\n",
    "&nbsp;&nbsp;&nbsp;&nbsp;According the latest *NYC&amp;Company* release New York City welcomed about 65.2 million tourists in 2018 year - 51.6 million domestic and 13.5 million international visitors. And these numbers are continuously increasing from year to year.<br/>\n",
    "&nbsp;&nbsp;&nbsp;&nbsp;New York City has the largest selection of lodging choices in the country – from the hostels to the luxury hotels. <br/>\n",
    "&nbsp;&nbsp;&nbsp;&nbsp;The prices vary from 100$ till several thousand dollars with average price of 292 USD per night.   <br/>\n",
    "&nbsp;&nbsp;&nbsp;&nbsp;The Hotel Occupancy rate is also high – in 2018 year it was 88%<br/>\n",
    "&nbsp;&nbsp;&nbsp;&nbsp;Visitors prefer short stays that are often over weekends - averaging 2.4 nights.\n",
    "<br/> <br/> \n",
    "&nbsp;&nbsp;**1.2.\t Problem** <br/>\n",
    "&nbsp;&nbsp;&nbsp;&nbsp;In New York City there are almost 300 hotels with over 75,000 hotel rooms and Airbnb has more than 50,000 apartment listings in New York City in 2018 year - it can be hard to find the right fit or know how much you will get with your money. <br />\n",
    "&nbsp;&nbsp;&nbsp;&nbsp;In this project we will try to find the most optimal borough in Manhattan where a tourist can rent an accommodation via Airbnb service and have a pleasant stay in NYC and a possibility to attend the most visited attractions like Central Park, Times Square  and so on.\n"
   ]
  },
  {
   "cell_type": "markdown",
   "metadata": {},
   "source": [
    "<br />**2. Data** <br/>\n",
    "&nbsp;&nbsp;&nbsp;&nbsp;In our investigation we will use the following free and public available datasets. \n",
    "<br/>\n",
    "&nbsp;&nbsp;&nbsp;&nbsp;We will try to evaluate available Airbnb 2019 year accommodations in Manhattan, New York and define the most reasonable apartments sets(clusters)  for the tourists.\n",
    "\n",
    "&nbsp;&nbsp;&nbsp;&nbsp;**2.1.\t New York City apartment listing from the Inside Airbnb site** <br />\n",
    "&nbsp;&nbsp;&nbsp;&nbsp;&nbsp;&nbsp;http://data.insideairbnb.com/united-states/ny/new-york-city/2019-12-04/data/listings.csv.gz\n",
    "<br/>\n",
    "&nbsp;&nbsp;&nbsp;&nbsp;&nbsp;&nbsp;Initially data contains 50,599 rows and 106 columns. <br/>\n",
    "&nbsp;&nbsp;&nbsp;&nbsp;&nbsp;&nbsp;For our project records were filtered by <br/>\n",
    "&nbsp;&nbsp;&nbsp;&nbsp;&nbsp;&nbsp;&nbsp;&nbsp; - Borough - *Manhattan, New York* only; <br/>\n",
    "&nbsp;&nbsp;&nbsp;&nbsp;&nbsp;&nbsp;&nbsp;&nbsp; - Number of reviews >= 10; <br/>\n",
    "&nbsp;&nbsp;&nbsp;&nbsp;&nbsp;&nbsp;&nbsp;&nbsp; - Availability >= 10 days in a year; <br/>\n",
    "&nbsp;&nbsp;&nbsp;&nbsp;&nbsp;&nbsp;&nbsp;&nbsp; - Last Scraped/Reviewed later than *2019-10-01*;<br/>\n",
    "&nbsp;&nbsp;&nbsp;&nbsp;&nbsp;&nbsp;&nbsp;&nbsp; - Minimum nights >= 1;<br/>\n",
    "&nbsp;&nbsp;&nbsp;&nbsp;&nbsp;&nbsp;&nbsp;&nbsp; - Excluded *Hostels* and *Camper/RV*;<br/>\n",
    "&nbsp;&nbsp;&nbsp;&nbsp;&nbsp;&nbsp;&nbsp;&nbsp; - Excluded *Shared rooms*.<br/>\n",
    "\n",
    "\n",
    "&nbsp;&nbsp;&nbsp;&nbsp;&nbsp;&nbsp;&nbsp;&nbsp;**2,356 rows and 26 columns were chosen for analysis:**\n",
    "![Airbnb apartments!](img/Screenshot_1.jpg)\n",
    "\n",
    "\n",
    "<br />\n",
    "\n",
    "&nbsp;&nbsp;&nbsp;&nbsp;**2.2.\t New York Neighborhoods boundaries GIS data** \n",
    "<br />&nbsp;&nbsp;&nbsp;&nbsp;&nbsp;&nbsp;&nbsp;&nbsp;&nbsp;&nbsp;https://cocl.us/new_york_dataset \n",
    "<br/>\n",
    "&nbsp;&nbsp;&nbsp;&nbsp;&nbsp;&nbsp;&nbsp;&nbsp;&nbsp;&nbsp;Data was filtered to extract Manhattan borough only. We have 40 neighborhoods in Manhattan.<br/>\n",
    "&nbsp;&nbsp;&nbsp;&nbsp;&nbsp;&nbsp;&nbsp;&nbsp;&nbsp;&nbsp;We will use these locations as an input for Foursquare API to search for the different venues nearby.<br/>\n",
    "![New York Neighborhoods!](img/Screenshot_3.jpg)\n",
    " \n",
    "\n",
    "\n",
    "&nbsp;&nbsp;&nbsp;&nbsp;**2.3.\t Foursquare API data about venues** - food places, museums, galleries, shopping centers, sightseeing attractions, concert halls and so on. <br />\n",
    "&nbsp;&nbsp;&nbsp;&nbsp;We will check top 50 venues in each Manhattan neighborhoods from p.2.2 above in radius of 500 meters.\n",
    " <br/><br/>\n",
    "&nbsp;&nbsp;&nbsp;&nbsp;**2.4.\t New York Crime data for 2019 year** <br/>\n",
    "&nbsp;&nbsp;&nbsp;&nbsp;&nbsp;&nbsp;&nbsp;&nbsp;&nbsp;&nbsp;https://data.citsyofnewyork.us/api/views/5uac-w243/rows.csv\n",
    "<br/> &nbsp;&nbsp;&nbsp;&nbsp;&nbsp;&nbsp;&nbsp;&nbsp;&nbsp;&nbsp;We will use this statistic during our apartment evaluation.\n",
    "Originally it contains 461,711 rows and 35 columns.\n",
    "<br/> &nbsp;&nbsp;&nbsp;&nbsp;&nbsp;&nbsp;&nbsp;&nbsp;&nbsp;&nbsp;Data was filtered by <br/>\n",
    "&nbsp;&nbsp;&nbsp;&nbsp;&nbsp;&nbsp;&nbsp;&nbsp;&nbsp;&nbsp; - Borough – *Manhattan, New York* only; <br/>\n",
    "&nbsp;&nbsp;&nbsp;&nbsp;&nbsp;&nbsp;&nbsp;&nbsp;&nbsp;&nbsp; - Crime type – *FELONY* and *MISDEMEANOR*.<br/>\n",
    "<br/>\n",
    "\n",
    "**&nbsp;&nbsp;&nbsp;&nbsp;&nbsp;&nbsp;&nbsp;&nbsp;&nbsp;&nbsp;116,352  rows were selected for analysis.**\n",
    "\n",
    "\n",
    "![New York Neighborhoods!](img/Screenshot_2.jpg)\n",
    " \n"
   ]
  }
 ],
 "metadata": {
  "kernelspec": {
   "display_name": "Python 3",
   "language": "python",
   "name": "python3"
  },
  "language_info": {
   "codemirror_mode": {
    "name": "ipython",
    "version": 3
   },
   "file_extension": ".py",
   "mimetype": "text/x-python",
   "name": "python",
   "nbconvert_exporter": "python",
   "pygments_lexer": "ipython3",
   "version": "3.7.10"
  }
 },
 "nbformat": 4,
 "nbformat_minor": 4
}
